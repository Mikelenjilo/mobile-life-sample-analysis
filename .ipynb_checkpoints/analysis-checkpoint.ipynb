{
 "cells": [
  {
   "cell_type": "code",
   "execution_count": 75,
   "id": "47e4947f-7565-487d-af28-d8936b6d3f62",
   "metadata": {},
   "outputs": [],
   "source": [
    "import pandas as pd\n",
    "import numpy as np\n",
    "import matplotlib.pyplot as plt\n",
    "import seaborn as sns\n",
    "\n",
    "sns.set_theme()"
   ]
  },
  {
   "cell_type": "code",
   "execution_count": 8,
   "id": "63652f24-2a67-4aac-8fac-104231dafc63",
   "metadata": {},
   "outputs": [
    {
     "data": {
      "text/html": [
       "<div>\n",
       "<style scoped>\n",
       "    .dataframe tbody tr th:only-of-type {\n",
       "        vertical-align: middle;\n",
       "    }\n",
       "\n",
       "    .dataframe tbody tr th {\n",
       "        vertical-align: top;\n",
       "    }\n",
       "\n",
       "    .dataframe thead th {\n",
       "        text-align: right;\n",
       "    }\n",
       "</style>\n",
       "<table border=\"1\" class=\"dataframe\">\n",
       "  <thead>\n",
       "    <tr style=\"text-align: right;\">\n",
       "      <th></th>\n",
       "      <th>User_ID</th>\n",
       "      <th>Date</th>\n",
       "      <th>Screen_Time (mins)</th>\n",
       "      <th>Battery_Level (%)</th>\n",
       "      <th>Network_Type</th>\n",
       "      <th>Data_Usage (MB)</th>\n",
       "      <th>Steps_Count</th>\n",
       "      <th>Call_Duration (mins)</th>\n",
       "      <th>App_Usage (Top App)</th>\n",
       "    </tr>\n",
       "  </thead>\n",
       "  <tbody>\n",
       "    <tr>\n",
       "      <th>0</th>\n",
       "      <td>User_1</td>\n",
       "      <td>2024-01-01</td>\n",
       "      <td>455</td>\n",
       "      <td>99</td>\n",
       "      <td>4G</td>\n",
       "      <td>1983.64</td>\n",
       "      <td>4299</td>\n",
       "      <td>17</td>\n",
       "      <td>TikTok</td>\n",
       "    </tr>\n",
       "    <tr>\n",
       "      <th>1</th>\n",
       "      <td>User_1</td>\n",
       "      <td>2024-01-02</td>\n",
       "      <td>567</td>\n",
       "      <td>42</td>\n",
       "      <td>WiFi</td>\n",
       "      <td>505.42</td>\n",
       "      <td>5654</td>\n",
       "      <td>5</td>\n",
       "      <td>TikTok</td>\n",
       "    </tr>\n",
       "    <tr>\n",
       "      <th>2</th>\n",
       "      <td>User_1</td>\n",
       "      <td>2024-01-03</td>\n",
       "      <td>334</td>\n",
       "      <td>83</td>\n",
       "      <td>4G</td>\n",
       "      <td>1923.93</td>\n",
       "      <td>12354</td>\n",
       "      <td>45</td>\n",
       "      <td>YouTube</td>\n",
       "    </tr>\n",
       "    <tr>\n",
       "      <th>3</th>\n",
       "      <td>User_1</td>\n",
       "      <td>2024-01-04</td>\n",
       "      <td>579</td>\n",
       "      <td>93</td>\n",
       "      <td>4G</td>\n",
       "      <td>295.39</td>\n",
       "      <td>13002</td>\n",
       "      <td>52</td>\n",
       "      <td>Spotify</td>\n",
       "    </tr>\n",
       "    <tr>\n",
       "      <th>4</th>\n",
       "      <td>User_1</td>\n",
       "      <td>2024-01-05</td>\n",
       "      <td>115</td>\n",
       "      <td>68</td>\n",
       "      <td>WiFi</td>\n",
       "      <td>1170.95</td>\n",
       "      <td>15519</td>\n",
       "      <td>75</td>\n",
       "      <td>Facebook</td>\n",
       "    </tr>\n",
       "  </tbody>\n",
       "</table>\n",
       "</div>"
      ],
      "text/plain": [
       "  User_ID       Date  Screen_Time (mins)  Battery_Level (%) Network_Type  \\\n",
       "0  User_1 2024-01-01                 455                 99           4G   \n",
       "1  User_1 2024-01-02                 567                 42         WiFi   \n",
       "2  User_1 2024-01-03                 334                 83           4G   \n",
       "3  User_1 2024-01-04                 579                 93           4G   \n",
       "4  User_1 2024-01-05                 115                 68         WiFi   \n",
       "\n",
       "   Data_Usage (MB)  Steps_Count  Call_Duration (mins) App_Usage (Top App)  \n",
       "0          1983.64         4299                    17              TikTok  \n",
       "1           505.42         5654                     5              TikTok  \n",
       "2          1923.93        12354                    45             YouTube  \n",
       "3           295.39        13002                    52             Spotify  \n",
       "4          1170.95        15519                    75            Facebook  "
      ]
     },
     "execution_count": 8,
     "metadata": {},
     "output_type": "execute_result"
    }
   ],
   "source": [
    "df = pd.read_csv(\"mobile_life_sample.csv\", parse_dates=[\"Date\"])\n",
    "df.head()"
   ]
  },
  {
   "cell_type": "code",
   "execution_count": 99,
   "id": "db95a352-134a-4f4a-9a72-b73386a047bf",
   "metadata": {},
   "outputs": [],
   "source": [
    "df.rename(\n",
    "    columns={\n",
    "        'Screen_Time (mins)': 'Screen_Time_mins',\n",
    "        'Battery_Level (%)': 'Battery_Level_percent',\n",
    "        'Data_Usage (MB)': 'Data_Usage_MB',\n",
    "        'Call_Duration (mins)': 'Call_Duration_mins',\n",
    "        'Application': 'Top_App',\n",
    "    },\n",
    "    inplace=True,\n",
    ")"
   ]
  },
  {
   "cell_type": "code",
   "execution_count": 44,
   "id": "9bc4d7a8-3d61-43aa-bf2f-5ff613dc205b",
   "metadata": {},
   "outputs": [
    {
     "data": {
      "text/html": [
       "<div>\n",
       "<style scoped>\n",
       "    .dataframe tbody tr th:only-of-type {\n",
       "        vertical-align: middle;\n",
       "    }\n",
       "\n",
       "    .dataframe tbody tr th {\n",
       "        vertical-align: top;\n",
       "    }\n",
       "\n",
       "    .dataframe thead th {\n",
       "        text-align: right;\n",
       "    }\n",
       "</style>\n",
       "<table border=\"1\" class=\"dataframe\">\n",
       "  <thead>\n",
       "    <tr style=\"text-align: right;\">\n",
       "      <th></th>\n",
       "      <th>User_ID</th>\n",
       "      <th>Date</th>\n",
       "      <th>Screen_Time_mins</th>\n",
       "      <th>Battery_Level_percent</th>\n",
       "      <th>Network_Type</th>\n",
       "      <th>Data_Usage_MB</th>\n",
       "      <th>Steps_Count</th>\n",
       "      <th>Call_Duration_mins</th>\n",
       "      <th>Application</th>\n",
       "    </tr>\n",
       "  </thead>\n",
       "  <tbody>\n",
       "    <tr>\n",
       "      <th>0</th>\n",
       "      <td>User_1</td>\n",
       "      <td>2024-01-01</td>\n",
       "      <td>455</td>\n",
       "      <td>99</td>\n",
       "      <td>4G</td>\n",
       "      <td>1983.64</td>\n",
       "      <td>4299</td>\n",
       "      <td>17</td>\n",
       "      <td>TikTok</td>\n",
       "    </tr>\n",
       "    <tr>\n",
       "      <th>1</th>\n",
       "      <td>User_1</td>\n",
       "      <td>2024-01-02</td>\n",
       "      <td>567</td>\n",
       "      <td>42</td>\n",
       "      <td>WiFi</td>\n",
       "      <td>505.42</td>\n",
       "      <td>5654</td>\n",
       "      <td>5</td>\n",
       "      <td>TikTok</td>\n",
       "    </tr>\n",
       "    <tr>\n",
       "      <th>2</th>\n",
       "      <td>User_1</td>\n",
       "      <td>2024-01-03</td>\n",
       "      <td>334</td>\n",
       "      <td>83</td>\n",
       "      <td>4G</td>\n",
       "      <td>1923.93</td>\n",
       "      <td>12354</td>\n",
       "      <td>45</td>\n",
       "      <td>YouTube</td>\n",
       "    </tr>\n",
       "    <tr>\n",
       "      <th>3</th>\n",
       "      <td>User_1</td>\n",
       "      <td>2024-01-04</td>\n",
       "      <td>579</td>\n",
       "      <td>93</td>\n",
       "      <td>4G</td>\n",
       "      <td>295.39</td>\n",
       "      <td>13002</td>\n",
       "      <td>52</td>\n",
       "      <td>Spotify</td>\n",
       "    </tr>\n",
       "    <tr>\n",
       "      <th>4</th>\n",
       "      <td>User_1</td>\n",
       "      <td>2024-01-05</td>\n",
       "      <td>115</td>\n",
       "      <td>68</td>\n",
       "      <td>WiFi</td>\n",
       "      <td>1170.95</td>\n",
       "      <td>15519</td>\n",
       "      <td>75</td>\n",
       "      <td>Facebook</td>\n",
       "    </tr>\n",
       "  </tbody>\n",
       "</table>\n",
       "</div>"
      ],
      "text/plain": [
       "  User_ID       Date  Screen_Time_mins  Battery_Level_percent Network_Type  \\\n",
       "0  User_1 2024-01-01               455                     99           4G   \n",
       "1  User_1 2024-01-02               567                     42         WiFi   \n",
       "2  User_1 2024-01-03               334                     83           4G   \n",
       "3  User_1 2024-01-04               579                     93           4G   \n",
       "4  User_1 2024-01-05               115                     68         WiFi   \n",
       "\n",
       "   Data_Usage_MB  Steps_Count  Call_Duration_mins Application  \n",
       "0        1983.64         4299                  17      TikTok  \n",
       "1         505.42         5654                   5      TikTok  \n",
       "2        1923.93        12354                  45     YouTube  \n",
       "3         295.39        13002                  52     Spotify  \n",
       "4        1170.95        15519                  75    Facebook  "
      ]
     },
     "execution_count": 44,
     "metadata": {},
     "output_type": "execute_result"
    }
   ],
   "source": [
    "df.head()"
   ]
  },
  {
   "cell_type": "code",
   "execution_count": 101,
   "id": "25ff1a02-c6b0-47e5-a7e7-8bda84d42cd9",
   "metadata": {},
   "outputs": [],
   "source": [
    "df[\"User_ID\"] = df[\"User_ID\"].astype(\"category\")\n",
    "df[\"Network_Type\"] = df[\"Network_Type\"].astype(\"category\")\n",
    "df[\"Top_App\"] = df[\"Top_App\"].astype(\"category\")"
   ]
  },
  {
   "cell_type": "code",
   "execution_count": 46,
   "id": "8d3feb38-1aea-44d4-949b-b810011b7a89",
   "metadata": {},
   "outputs": [
    {
     "name": "stdout",
     "output_type": "stream",
     "text": [
      "<class 'pandas.core.frame.DataFrame'>\n",
      "RangeIndex: 200 entries, 0 to 199\n",
      "Data columns (total 9 columns):\n",
      " #   Column                 Non-Null Count  Dtype         \n",
      "---  ------                 --------------  -----         \n",
      " 0   User_ID                200 non-null    category      \n",
      " 1   Date                   200 non-null    datetime64[ns]\n",
      " 2   Screen_Time_mins       200 non-null    int64         \n",
      " 3   Battery_Level_percent  200 non-null    int64         \n",
      " 4   Network_Type           200 non-null    category      \n",
      " 5   Data_Usage_MB          200 non-null    float64       \n",
      " 6   Steps_Count            200 non-null    int64         \n",
      " 7   Call_Duration_mins     200 non-null    int64         \n",
      " 8   Application            200 non-null    category      \n",
      "dtypes: category(3), datetime64[ns](1), float64(1), int64(4)\n",
      "memory usage: 11.3 KB\n"
     ]
    }
   ],
   "source": [
    "df.info()"
   ]
  },
  {
   "cell_type": "code",
   "execution_count": 175,
   "id": "52b92417-4eca-4471-ab93-31c47790a84f",
   "metadata": {},
   "outputs": [
    {
     "data": {
      "text/html": [
       "<div>\n",
       "<style scoped>\n",
       "    .dataframe tbody tr th:only-of-type {\n",
       "        vertical-align: middle;\n",
       "    }\n",
       "\n",
       "    .dataframe tbody tr th {\n",
       "        vertical-align: top;\n",
       "    }\n",
       "\n",
       "    .dataframe thead th {\n",
       "        text-align: right;\n",
       "    }\n",
       "</style>\n",
       "<table border=\"1\" class=\"dataframe\">\n",
       "  <thead>\n",
       "    <tr style=\"text-align: right;\">\n",
       "      <th></th>\n",
       "      <th>User_ID</th>\n",
       "      <th>Date</th>\n",
       "      <th>Screen_Time_mins</th>\n",
       "      <th>Battery_Level_percent</th>\n",
       "      <th>Network_Type</th>\n",
       "      <th>Data_Usage_MB</th>\n",
       "      <th>Steps_Count</th>\n",
       "      <th>Call_Duration_mins</th>\n",
       "      <th>Top_App</th>\n",
       "    </tr>\n",
       "  </thead>\n",
       "  <tbody>\n",
       "    <tr>\n",
       "      <th>0</th>\n",
       "      <td>User_1</td>\n",
       "      <td>2024-01-01</td>\n",
       "      <td>455</td>\n",
       "      <td>99</td>\n",
       "      <td>4G</td>\n",
       "      <td>1983.64</td>\n",
       "      <td>4299</td>\n",
       "      <td>17</td>\n",
       "      <td>TikTok</td>\n",
       "    </tr>\n",
       "    <tr>\n",
       "      <th>1</th>\n",
       "      <td>User_1</td>\n",
       "      <td>2024-01-02</td>\n",
       "      <td>567</td>\n",
       "      <td>42</td>\n",
       "      <td>WiFi</td>\n",
       "      <td>505.42</td>\n",
       "      <td>5654</td>\n",
       "      <td>5</td>\n",
       "      <td>TikTok</td>\n",
       "    </tr>\n",
       "    <tr>\n",
       "      <th>2</th>\n",
       "      <td>User_1</td>\n",
       "      <td>2024-01-03</td>\n",
       "      <td>334</td>\n",
       "      <td>83</td>\n",
       "      <td>4G</td>\n",
       "      <td>1923.93</td>\n",
       "      <td>12354</td>\n",
       "      <td>45</td>\n",
       "      <td>YouTube</td>\n",
       "    </tr>\n",
       "    <tr>\n",
       "      <th>3</th>\n",
       "      <td>User_1</td>\n",
       "      <td>2024-01-04</td>\n",
       "      <td>579</td>\n",
       "      <td>93</td>\n",
       "      <td>4G</td>\n",
       "      <td>295.39</td>\n",
       "      <td>13002</td>\n",
       "      <td>52</td>\n",
       "      <td>Spotify</td>\n",
       "    </tr>\n",
       "    <tr>\n",
       "      <th>4</th>\n",
       "      <td>User_1</td>\n",
       "      <td>2024-01-05</td>\n",
       "      <td>115</td>\n",
       "      <td>68</td>\n",
       "      <td>WiFi</td>\n",
       "      <td>1170.95</td>\n",
       "      <td>15519</td>\n",
       "      <td>75</td>\n",
       "      <td>Facebook</td>\n",
       "    </tr>\n",
       "    <tr>\n",
       "      <th>...</th>\n",
       "      <td>...</td>\n",
       "      <td>...</td>\n",
       "      <td>...</td>\n",
       "      <td>...</td>\n",
       "      <td>...</td>\n",
       "      <td>...</td>\n",
       "      <td>...</td>\n",
       "      <td>...</td>\n",
       "      <td>...</td>\n",
       "    </tr>\n",
       "    <tr>\n",
       "      <th>195</th>\n",
       "      <td>User_20</td>\n",
       "      <td>2024-01-06</td>\n",
       "      <td>257</td>\n",
       "      <td>91</td>\n",
       "      <td>5G</td>\n",
       "      <td>734.14</td>\n",
       "      <td>5819</td>\n",
       "      <td>93</td>\n",
       "      <td>TikTok</td>\n",
       "    </tr>\n",
       "    <tr>\n",
       "      <th>196</th>\n",
       "      <td>User_20</td>\n",
       "      <td>2024-01-07</td>\n",
       "      <td>387</td>\n",
       "      <td>50</td>\n",
       "      <td>5G</td>\n",
       "      <td>1739.35</td>\n",
       "      <td>13405</td>\n",
       "      <td>88</td>\n",
       "      <td>Instagram</td>\n",
       "    </tr>\n",
       "    <tr>\n",
       "      <th>197</th>\n",
       "      <td>User_20</td>\n",
       "      <td>2024-01-08</td>\n",
       "      <td>335</td>\n",
       "      <td>63</td>\n",
       "      <td>4G</td>\n",
       "      <td>910.48</td>\n",
       "      <td>13086</td>\n",
       "      <td>115</td>\n",
       "      <td>TikTok</td>\n",
       "    </tr>\n",
       "    <tr>\n",
       "      <th>198</th>\n",
       "      <td>User_20</td>\n",
       "      <td>2024-01-09</td>\n",
       "      <td>260</td>\n",
       "      <td>54</td>\n",
       "      <td>5G</td>\n",
       "      <td>508.79</td>\n",
       "      <td>16688</td>\n",
       "      <td>18</td>\n",
       "      <td>YouTube</td>\n",
       "    </tr>\n",
       "    <tr>\n",
       "      <th>199</th>\n",
       "      <td>User_20</td>\n",
       "      <td>2024-01-10</td>\n",
       "      <td>212</td>\n",
       "      <td>33</td>\n",
       "      <td>5G</td>\n",
       "      <td>138.11</td>\n",
       "      <td>1319</td>\n",
       "      <td>77</td>\n",
       "      <td>YouTube</td>\n",
       "    </tr>\n",
       "  </tbody>\n",
       "</table>\n",
       "<p>200 rows × 9 columns</p>\n",
       "</div>"
      ],
      "text/plain": [
       "     User_ID       Date  Screen_Time_mins  Battery_Level_percent Network_Type  \\\n",
       "0     User_1 2024-01-01               455                     99           4G   \n",
       "1     User_1 2024-01-02               567                     42         WiFi   \n",
       "2     User_1 2024-01-03               334                     83           4G   \n",
       "3     User_1 2024-01-04               579                     93           4G   \n",
       "4     User_1 2024-01-05               115                     68         WiFi   \n",
       "..       ...        ...               ...                    ...          ...   \n",
       "195  User_20 2024-01-06               257                     91           5G   \n",
       "196  User_20 2024-01-07               387                     50           5G   \n",
       "197  User_20 2024-01-08               335                     63           4G   \n",
       "198  User_20 2024-01-09               260                     54           5G   \n",
       "199  User_20 2024-01-10               212                     33           5G   \n",
       "\n",
       "     Data_Usage_MB  Steps_Count  Call_Duration_mins    Top_App  \n",
       "0          1983.64         4299                  17     TikTok  \n",
       "1           505.42         5654                   5     TikTok  \n",
       "2          1923.93        12354                  45    YouTube  \n",
       "3           295.39        13002                  52    Spotify  \n",
       "4          1170.95        15519                  75   Facebook  \n",
       "..             ...          ...                 ...        ...  \n",
       "195         734.14         5819                  93     TikTok  \n",
       "196        1739.35        13405                  88  Instagram  \n",
       "197         910.48        13086                 115     TikTok  \n",
       "198         508.79        16688                  18    YouTube  \n",
       "199         138.11         1319                  77    YouTube  \n",
       "\n",
       "[200 rows x 9 columns]"
      ]
     },
     "execution_count": 175,
     "metadata": {},
     "output_type": "execute_result"
    }
   ],
   "source": [
    "df"
   ]
  },
  {
   "cell_type": "markdown",
   "id": "4b91f2bb-ea2d-4e3c-9568-f25d6077ded2",
   "metadata": {
    "jp-MarkdownHeadingCollapsed": true
   },
   "source": [
    "#### Question 1: What is the average screen time per day?"
   ]
  },
  {
   "cell_type": "code",
   "execution_count": 115,
   "id": "60cdf864-d121-4b8c-89dc-da59bb66c9b2",
   "metadata": {},
   "outputs": [
    {
     "name": "stdout",
     "output_type": "stream",
     "text": [
      "The average screen time per day is: 314.98 mins\n"
     ]
    }
   ],
   "source": [
    "avg_screen_time = df['Screen_Time_mins'].mean()\n",
    "\n",
    "print(f\"The average screen time per day is: {avg_screen_time} mins\")"
   ]
  },
  {
   "cell_type": "markdown",
   "id": "812897c7-2497-40ce-907e-8e15155f49bb",
   "metadata": {
    "jp-MarkdownHeadingCollapsed": true
   },
   "source": [
    "#### Question 2: Which application is used the most in terms of screen time or frequency?"
   ]
  },
  {
   "cell_type": "code",
   "execution_count": 147,
   "id": "b086c9f4-f290-42d7-8138-0a4db14de2f7",
   "metadata": {},
   "outputs": [
    {
     "name": "stdout",
     "output_type": "stream",
     "text": [
      "The most used application is: Twitter.\n"
     ]
    }
   ],
   "source": [
    "top_app = df[\"Top_App\"].value_counts().nlargest(1)\n",
    "\n",
    "print(f\"The most used application is: {top_app.index[0]}.\")"
   ]
  },
  {
   "cell_type": "code",
   "execution_count": 199,
   "id": "ce7776aa-bd42-426a-9281-28191800eafa",
   "metadata": {},
   "outputs": [
    {
     "data": {
      "image/png": "[encoded data removed]",
      "text/plain": [
       "<Figure size 640x480 with 1 Axes>"
      ]
     },
     "metadata": {},
     "output_type": "display_data"
    }
   ],
   "source": [
    "sns.histplot(data=df, x=\"Top_App\")\n",
    "plt.tick_params(axis='x', rotation=45)"
   ]
  },
  {
   "cell_type": "markdown",
   "id": "0e42124f-8d67-4116-bfb7-ff9b4a9793e2",
   "metadata": {
    "jp-MarkdownHeadingCollapsed": true
   },
   "source": [
    "#### Question 3: How does data usage correlate with screen time?"
   ]
  },
  {
   "cell_type": "code",
   "execution_count": 167,
   "id": "3d46b7f7-6669-48fc-b8b1-b32b38eb4e0a",
   "metadata": {},
   "outputs": [
    {
     "name": "stdout",
     "output_type": "stream",
     "text": [
      "The correlation between data usage and screen time is 0.06, which means that the two parameters do not correlate.\n"
     ]
    }
   ],
   "source": [
    "corr = df[[\"Data_Usage_MB\", \"Screen_Time_mins\"]].corr().loc[\"Data_Usage_MB\", \"Screen_Time_mins\"]\n",
    "\n",
    "print(f\"The correlation between data usage and screen time is {round(corr, 2)}, which means that the two parameters do not correlate.\")"
   ]
  },
  {
   "cell_type": "code",
   "execution_count": 215,
   "id": "5c554221-2ed2-4e5e-aa49-c6dc972cafcb",
   "metadata": {},
   "outputs": [
    {
     "data": {
      "image/png": "[encoded data removed]",
      "text/plain": [
       "<Figure size 640x480 with 1 Axes>"
      ]
     },
     "metadata": {},
     "output_type": "display_data"
    }
   ],
   "source": [
    "sns.scatterplot(data=df, x=\"Screen_Time_mins\", y=\"Data_Usage_MB\")\n",
    "plt.tick_params(axis='x', rotation=45)"
   ]
  },
  {
   "cell_type": "markdown",
   "id": "e07334c4-1a51-45bf-b8b1-ea6a819fdec1",
   "metadata": {
    "jp-MarkdownHeadingCollapsed": true
   },
   "source": [
    "#### Question 4: Which network type is used more frequently?"
   ]
  },
  {
   "cell_type": "code",
   "execution_count": 193,
   "id": "1059de2c-3d97-44a6-bca6-3fdab52d9ddd",
   "metadata": {},
   "outputs": [
    {
     "name": "stdout",
     "output_type": "stream",
     "text": [
      "4G is used more frequently\n"
     ]
    }
   ],
   "source": [
    "top_ntw_type = df.Network_Type.value_counts().nlargest(1)\n",
    "\n",
    "print(f\"{top_ntw_type.index[0]} is used more frequently\")"
   ]
  },
  {
   "cell_type": "code",
   "execution_count": 208,
   "id": "55e80211-2364-4f1a-8bbc-9519c073c09b",
   "metadata": {},
   "outputs": [
    {
     "data": {
      "text/plain": [
       "<Axes: xlabel='Network_Type', ylabel='Count'>"
      ]
     },
     "execution_count": 208,
     "metadata": {},
     "output_type": "execute_result"
    },
    {
     "data": {
      "image/png": "[encoded data removed]",
      "text/plain": [
       "<Figure size 640x480 with 1 Axes>"
      ]
     },
     "metadata": {},
     "output_type": "display_data"
    }
   ],
   "source": [
    "sns.histplot(data=df, x='Network_Type')"
   ]
  },
  {
   "cell_type": "markdown",
   "id": "01046b98-b31f-40bd-a408-993607784e28",
   "metadata": {
    "jp-MarkdownHeadingCollapsed": true
   },
   "source": [
    "#### Question 5: Is there a relationship between screen time and steps count (e.g., does higher screen time mean fewer steps)?"
   ]
  },
  {
   "cell_type": "code",
   "execution_count": 221,
   "id": "d40d3363-95e7-4c72-86f4-e11a6d21d10f",
   "metadata": {},
   "outputs": [
    {
     "data": {
      "text/html": [
       "<div>\n",
       "<style scoped>\n",
       "    .dataframe tbody tr th:only-of-type {\n",
       "        vertical-align: middle;\n",
       "    }\n",
       "\n",
       "    .dataframe tbody tr th {\n",
       "        vertical-align: top;\n",
       "    }\n",
       "\n",
       "    .dataframe thead th {\n",
       "        text-align: right;\n",
       "    }\n",
       "</style>\n",
       "<table border=\"1\" class=\"dataframe\">\n",
       "  <thead>\n",
       "    <tr style=\"text-align: right;\">\n",
       "      <th></th>\n",
       "      <th>Screen_Time_mins</th>\n",
       "      <th>Steps_Count</th>\n",
       "    </tr>\n",
       "  </thead>\n",
       "  <tbody>\n",
       "    <tr>\n",
       "      <th>Screen_Time_mins</th>\n",
       "      <td>1.000000</td>\n",
       "      <td>0.010427</td>\n",
       "    </tr>\n",
       "    <tr>\n",
       "      <th>Steps_Count</th>\n",
       "      <td>0.010427</td>\n",
       "      <td>1.000000</td>\n",
       "    </tr>\n",
       "  </tbody>\n",
       "</table>\n",
       "</div>"
      ],
      "text/plain": [
       "                  Screen_Time_mins  Steps_Count\n",
       "Screen_Time_mins          1.000000     0.010427\n",
       "Steps_Count               0.010427     1.000000"
      ]
     },
     "execution_count": 221,
     "metadata": {},
     "output_type": "execute_result"
    }
   ],
   "source": [
    "df[['Screen_Time_mins', 'Steps_Count']].corr()"
   ]
  },
  {
   "cell_type": "code",
   "execution_count": 223,
   "id": "02e42064-a584-4b05-b568-e8628a825dc3",
   "metadata": {},
   "outputs": [
    {
     "data": {
      "text/plain": [
       "<Axes: xlabel='Screen_Time_mins', ylabel='Steps_Count'>"
      ]
     },
     "execution_count": 223,
     "metadata": {},
     "output_type": "execute_result"
    },
    {
     "data": {
      "image/png": "[encoded data removed]",
      "text/plain": [
       "<Figure size 640x480 with 1 Axes>"
      ]
     },
     "metadata": {},
     "output_type": "display_data"
    }
   ],
   "source": [
    "sns.scatterplot(data=df, x='Screen_Time_mins', y='Steps_Count')"
   ]
  },
  {
   "cell_type": "markdown",
   "id": "4c14caa9-9188-43fd-93d0-ceb1e1885e8c",
   "metadata": {},
   "source": [
    "We can see that the two variables are uncorrelated"
   ]
  },
  {
   "cell_type": "markdown",
   "id": "26040bad-32f6-4dcb-8bfe-e5acf7979dec",
   "metadata": {},
   "source": [
    "#### Question 6: Does battery level percentage influence screen time or data usage?"
   ]
  },
  {
   "cell_type": "code",
   "execution_count": 227,
   "id": "6caee6e9-ca79-46ea-b5bd-47be25289cd6",
   "metadata": {},
   "outputs": [
    {
     "data": {
      "text/html": [
       "<div>\n",
       "<style scoped>\n",
       "    .dataframe tbody tr th:only-of-type {\n",
       "        vertical-align: middle;\n",
       "    }\n",
       "\n",
       "    .dataframe tbody tr th {\n",
       "        vertical-align: top;\n",
       "    }\n",
       "\n",
       "    .dataframe thead th {\n",
       "        text-align: right;\n",
       "    }\n",
       "</style>\n",
       "<table border=\"1\" class=\"dataframe\">\n",
       "  <thead>\n",
       "    <tr style=\"text-align: right;\">\n",
       "      <th></th>\n",
       "      <th>User_ID</th>\n",
       "      <th>Date</th>\n",
       "      <th>Screen_Time_mins</th>\n",
       "      <th>Battery_Level_percent</th>\n",
       "      <th>Network_Type</th>\n",
       "      <th>Data_Usage_MB</th>\n",
       "      <th>Steps_Count</th>\n",
       "      <th>Call_Duration_mins</th>\n",
       "      <th>Top_App</th>\n",
       "    </tr>\n",
       "  </thead>\n",
       "  <tbody>\n",
       "    <tr>\n",
       "      <th>0</th>\n",
       "      <td>User_1</td>\n",
       "      <td>2024-01-01</td>\n",
       "      <td>455</td>\n",
       "      <td>99</td>\n",
       "      <td>4G</td>\n",
       "      <td>1983.64</td>\n",
       "      <td>4299</td>\n",
       "      <td>17</td>\n",
       "      <td>TikTok</td>\n",
       "    </tr>\n",
       "    <tr>\n",
       "      <th>1</th>\n",
       "      <td>User_1</td>\n",
       "      <td>2024-01-02</td>\n",
       "      <td>567</td>\n",
       "      <td>42</td>\n",
       "      <td>WiFi</td>\n",
       "      <td>505.42</td>\n",
       "      <td>5654</td>\n",
       "      <td>5</td>\n",
       "      <td>TikTok</td>\n",
       "    </tr>\n",
       "    <tr>\n",
       "      <th>2</th>\n",
       "      <td>User_1</td>\n",
       "      <td>2024-01-03</td>\n",
       "      <td>334</td>\n",
       "      <td>83</td>\n",
       "      <td>4G</td>\n",
       "      <td>1923.93</td>\n",
       "      <td>12354</td>\n",
       "      <td>45</td>\n",
       "      <td>YouTube</td>\n",
       "    </tr>\n",
       "    <tr>\n",
       "      <th>3</th>\n",
       "      <td>User_1</td>\n",
       "      <td>2024-01-04</td>\n",
       "      <td>579</td>\n",
       "      <td>93</td>\n",
       "      <td>4G</td>\n",
       "      <td>295.39</td>\n",
       "      <td>13002</td>\n",
       "      <td>52</td>\n",
       "      <td>Spotify</td>\n",
       "    </tr>\n",
       "    <tr>\n",
       "      <th>4</th>\n",
       "      <td>User_1</td>\n",
       "      <td>2024-01-05</td>\n",
       "      <td>115</td>\n",
       "      <td>68</td>\n",
       "      <td>WiFi</td>\n",
       "      <td>1170.95</td>\n",
       "      <td>15519</td>\n",
       "      <td>75</td>\n",
       "      <td>Facebook</td>\n",
       "    </tr>\n",
       "  </tbody>\n",
       "</table>\n",
       "</div>"
      ],
      "text/plain": [
       "  User_ID       Date  Screen_Time_mins  Battery_Level_percent Network_Type  \\\n",
       "0  User_1 2024-01-01               455                     99           4G   \n",
       "1  User_1 2024-01-02               567                     42         WiFi   \n",
       "2  User_1 2024-01-03               334                     83           4G   \n",
       "3  User_1 2024-01-04               579                     93           4G   \n",
       "4  User_1 2024-01-05               115                     68         WiFi   \n",
       "\n",
       "   Data_Usage_MB  Steps_Count  Call_Duration_mins   Top_App  \n",
       "0        1983.64         4299                  17    TikTok  \n",
       "1         505.42         5654                   5    TikTok  \n",
       "2        1923.93        12354                  45   YouTube  \n",
       "3         295.39        13002                  52   Spotify  \n",
       "4        1170.95        15519                  75  Facebook  "
      ]
     },
     "execution_count": 227,
     "metadata": {},
     "output_type": "execute_result"
    }
   ],
   "source": [
    "df.head()"
   ]
  },
  {
   "cell_type": "code",
   "execution_count": 237,
   "id": "7bf1709c-9389-493a-a0e9-8240a0d64f42",
   "metadata": {},
   "outputs": [
    {
     "data": {
      "text/plain": [
       "<Axes: xlabel='Battery_Level_percent', ylabel='Data_Usage_MB'>"
      ]
     },
     "execution_count": 237,
     "metadata": {},
     "output_type": "execute_result"
    },
    {
     "data": {
      "image/png": "[encoded data removed]",
      "text/plain": [
       "<Figure size 640x480 with 1 Axes>"
      ]
     },
     "metadata": {},
     "output_type": "display_data"
    }
   ],
   "source": [
    "sns.scatterplot(data=df, x=\"Battery_Level_percent\", y=\"Screen_Time_mins\")\n",
    "sns.scatterplot(data=df, x=\"Battery_Level_percent\", y=\"Data_Usage_MB\")"
   ]
  }
 ],
 "metadata": {
  "kernelspec": {
   "display_name": "Python [conda env:base] *",
   "language": "python",
   "name": "conda-base-py"
  },
  "language_info": {
   "codemirror_mode": {
    "name": "ipython",
    "version": 3
   },
   "file_extension": ".py",
   "mimetype": "text/x-python",
   "name": "python",
   "nbconvert_exporter": "python",
   "pygments_lexer": "ipython3",
   "version": "3.12.7"
  }
 },
 "nbformat": 4,
 "nbformat_minor": 5
}
